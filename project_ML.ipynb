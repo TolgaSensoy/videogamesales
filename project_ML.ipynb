{
 "cells": [
  {
   "cell_type": "code",
   "execution_count": 1,
   "metadata": {},
   "outputs": [],
   "source": [
    "%matplotlib inline\n",
    "import pandas as pd\n",
    "import numpy as np\n",
    "import matplotlib.pyplot as plt\n",
    "import seaborn as sns\n"
   ]
  },
  {
   "cell_type": "code",
   "execution_count": 2,
   "metadata": {},
   "outputs": [
    {
     "data": {
      "text/html": [
       "<div>\n",
       "<style scoped>\n",
       "    .dataframe tbody tr th:only-of-type {\n",
       "        vertical-align: middle;\n",
       "    }\n",
       "\n",
       "    .dataframe tbody tr th {\n",
       "        vertical-align: top;\n",
       "    }\n",
       "\n",
       "    .dataframe thead th {\n",
       "        text-align: right;\n",
       "    }\n",
       "</style>\n",
       "<table border=\"1\" class=\"dataframe\">\n",
       "  <thead>\n",
       "    <tr style=\"text-align: right;\">\n",
       "      <th></th>\n",
       "      <th>Name</th>\n",
       "      <th>Platform</th>\n",
       "      <th>Year</th>\n",
       "      <th>Genre</th>\n",
       "      <th>Publisher</th>\n",
       "      <th>NA_Sales</th>\n",
       "      <th>EU_Sales</th>\n",
       "      <th>JP_Sales</th>\n",
       "      <th>Other_Sales</th>\n",
       "      <th>Global_Sales</th>\n",
       "    </tr>\n",
       "    <tr>\n",
       "      <th>Rank</th>\n",
       "      <th></th>\n",
       "      <th></th>\n",
       "      <th></th>\n",
       "      <th></th>\n",
       "      <th></th>\n",
       "      <th></th>\n",
       "      <th></th>\n",
       "      <th></th>\n",
       "      <th></th>\n",
       "      <th></th>\n",
       "    </tr>\n",
       "  </thead>\n",
       "  <tbody>\n",
       "    <tr>\n",
       "      <th>1</th>\n",
       "      <td>Wii Sports</td>\n",
       "      <td>Wii</td>\n",
       "      <td>2006.0</td>\n",
       "      <td>Sports</td>\n",
       "      <td>Nintendo</td>\n",
       "      <td>41.49</td>\n",
       "      <td>29.02</td>\n",
       "      <td>3.77</td>\n",
       "      <td>8.46</td>\n",
       "      <td>82.74</td>\n",
       "    </tr>\n",
       "    <tr>\n",
       "      <th>2</th>\n",
       "      <td>Super Mario Bros.</td>\n",
       "      <td>NES</td>\n",
       "      <td>1985.0</td>\n",
       "      <td>Platform</td>\n",
       "      <td>Nintendo</td>\n",
       "      <td>29.08</td>\n",
       "      <td>3.58</td>\n",
       "      <td>6.81</td>\n",
       "      <td>0.77</td>\n",
       "      <td>40.24</td>\n",
       "    </tr>\n",
       "    <tr>\n",
       "      <th>3</th>\n",
       "      <td>Mario Kart Wii</td>\n",
       "      <td>Wii</td>\n",
       "      <td>2008.0</td>\n",
       "      <td>Racing</td>\n",
       "      <td>Nintendo</td>\n",
       "      <td>15.85</td>\n",
       "      <td>12.88</td>\n",
       "      <td>3.79</td>\n",
       "      <td>3.31</td>\n",
       "      <td>35.82</td>\n",
       "    </tr>\n",
       "    <tr>\n",
       "      <th>4</th>\n",
       "      <td>Wii Sports Resort</td>\n",
       "      <td>Wii</td>\n",
       "      <td>2009.0</td>\n",
       "      <td>Sports</td>\n",
       "      <td>Nintendo</td>\n",
       "      <td>15.75</td>\n",
       "      <td>11.01</td>\n",
       "      <td>3.28</td>\n",
       "      <td>2.96</td>\n",
       "      <td>33.00</td>\n",
       "    </tr>\n",
       "    <tr>\n",
       "      <th>5</th>\n",
       "      <td>Pokemon Red/Pokemon Blue</td>\n",
       "      <td>GB</td>\n",
       "      <td>1996.0</td>\n",
       "      <td>Role-Playing</td>\n",
       "      <td>Nintendo</td>\n",
       "      <td>11.27</td>\n",
       "      <td>8.89</td>\n",
       "      <td>10.22</td>\n",
       "      <td>1.00</td>\n",
       "      <td>31.37</td>\n",
       "    </tr>\n",
       "  </tbody>\n",
       "</table>\n",
       "</div>"
      ],
      "text/plain": [
       "                          Name Platform    Year         Genre Publisher  \\\n",
       "Rank                                                                      \n",
       "1                   Wii Sports      Wii  2006.0        Sports  Nintendo   \n",
       "2            Super Mario Bros.      NES  1985.0      Platform  Nintendo   \n",
       "3               Mario Kart Wii      Wii  2008.0        Racing  Nintendo   \n",
       "4            Wii Sports Resort      Wii  2009.0        Sports  Nintendo   \n",
       "5     Pokemon Red/Pokemon Blue       GB  1996.0  Role-Playing  Nintendo   \n",
       "\n",
       "      NA_Sales  EU_Sales  JP_Sales  Other_Sales  Global_Sales  \n",
       "Rank                                                           \n",
       "1        41.49     29.02      3.77         8.46         82.74  \n",
       "2        29.08      3.58      6.81         0.77         40.24  \n",
       "3        15.85     12.88      3.79         3.31         35.82  \n",
       "4        15.75     11.01      3.28         2.96         33.00  \n",
       "5        11.27      8.89     10.22         1.00         31.37  "
      ]
     },
     "execution_count": 2,
     "metadata": {},
     "output_type": "execute_result"
    }
   ],
   "source": [
    "df = pd.read_csv('vgsales_webscrap.csv', index_col = 'Rank')\n",
    "df.head()"
   ]
  },
  {
   "cell_type": "code",
   "execution_count": 3,
   "metadata": {},
   "outputs": [],
   "source": [
    "# platform, Genre, Publisher, webscrap for years 2019"
   ]
  },
  {
   "cell_type": "code",
   "execution_count": 4,
   "metadata": {},
   "outputs": [],
   "source": [
    "X = df.drop(['Name', 'NA_Sales', 'EU_Sales', 'JP_Sales', 'Other_Sales', 'Global_Sales'], axis = 1)\n",
    "y = df.Global_Sales"
   ]
  },
  {
   "cell_type": "code",
   "execution_count": 5,
   "metadata": {},
   "outputs": [
    {
     "data": {
      "text/plain": [
       "144"
      ]
     },
     "metadata": {},
     "output_type": "display_data"
    },
    {
     "data": {
      "text/plain": [
       "0"
      ]
     },
     "metadata": {},
     "output_type": "display_data"
    }
   ],
   "source": [
    "display(X.isna().sum().sum(), y.isna().sum())"
   ]
  },
  {
   "cell_type": "code",
   "execution_count": 6,
   "metadata": {},
   "outputs": [],
   "source": [
    "X.Publisher = X.Publisher.astype('category')\n",
    "X.Publisher = X.Publisher.cat.codes"
   ]
  },
  {
   "cell_type": "code",
   "execution_count": 7,
   "metadata": {},
   "outputs": [],
   "source": [
    "X.Genre = X.Genre.astype('category')\n",
    "X.Genre = X.Genre.cat.codes"
   ]
  },
  {
   "cell_type": "code",
   "execution_count": 8,
   "metadata": {},
   "outputs": [],
   "source": [
    "X.Platform = X.Platform.astype('category')\n",
    "X.Platform = X.Platform.cat.codes"
   ]
  },
  {
   "cell_type": "code",
   "execution_count": 9,
   "metadata": {},
   "outputs": [],
   "source": [
    "from sklearn.model_selection import train_test_split\n",
    "\n",
    "X_train, X_test, y_train, y_test = train_test_split(X, y, test_size = 0.2)"
   ]
  },
  {
   "cell_type": "code",
   "execution_count": 10,
   "metadata": {},
   "outputs": [],
   "source": [
    "X_train.fillna(method = 'bfill', inplace = True)\n",
    "X_test.fillna(method = 'bfill', inplace = True)"
   ]
  },
  {
   "cell_type": "code",
   "execution_count": 11,
   "metadata": {},
   "outputs": [
    {
     "data": {
      "text/html": [
       "<div>\n",
       "<style scoped>\n",
       "    .dataframe tbody tr th:only-of-type {\n",
       "        vertical-align: middle;\n",
       "    }\n",
       "\n",
       "    .dataframe tbody tr th {\n",
       "        vertical-align: top;\n",
       "    }\n",
       "\n",
       "    .dataframe thead th {\n",
       "        text-align: right;\n",
       "    }\n",
       "</style>\n",
       "<table border=\"1\" class=\"dataframe\">\n",
       "  <thead>\n",
       "    <tr style=\"text-align: right;\">\n",
       "      <th></th>\n",
       "      <th>Platform</th>\n",
       "      <th>Year</th>\n",
       "      <th>Genre</th>\n",
       "      <th>Publisher</th>\n",
       "    </tr>\n",
       "    <tr>\n",
       "      <th>Rank</th>\n",
       "      <th></th>\n",
       "      <th></th>\n",
       "      <th></th>\n",
       "      <th></th>\n",
       "    </tr>\n",
       "  </thead>\n",
       "  <tbody>\n",
       "    <tr>\n",
       "      <th>3158</th>\n",
       "      <td>10</td>\n",
       "      <td>1999.0</td>\n",
       "      <td>8</td>\n",
       "      <td>425</td>\n",
       "    </tr>\n",
       "    <tr>\n",
       "      <th>12663</th>\n",
       "      <td>16</td>\n",
       "      <td>2006.0</td>\n",
       "      <td>3</td>\n",
       "      <td>275</td>\n",
       "    </tr>\n",
       "    <tr>\n",
       "      <th>16377</th>\n",
       "      <td>28</td>\n",
       "      <td>2009.0</td>\n",
       "      <td>7</td>\n",
       "      <td>98</td>\n",
       "    </tr>\n",
       "    <tr>\n",
       "      <th>7216</th>\n",
       "      <td>6</td>\n",
       "      <td>2004.0</td>\n",
       "      <td>3</td>\n",
       "      <td>53</td>\n",
       "    </tr>\n",
       "    <tr>\n",
       "      <th>1954</th>\n",
       "      <td>17</td>\n",
       "      <td>2008.0</td>\n",
       "      <td>0</td>\n",
       "      <td>21</td>\n",
       "    </tr>\n",
       "  </tbody>\n",
       "</table>\n",
       "</div>"
      ],
      "text/plain": [
       "       Platform    Year  Genre  Publisher\n",
       "Rank                                     \n",
       "3158         10  1999.0      8        425\n",
       "12663        16  2006.0      3        275\n",
       "16377        28  2009.0      7         98\n",
       "7216          6  2004.0      3         53\n",
       "1954         17  2008.0      0         21"
      ]
     },
     "execution_count": 11,
     "metadata": {},
     "output_type": "execute_result"
    }
   ],
   "source": [
    "X_train.head()"
   ]
  },
  {
   "cell_type": "code",
   "execution_count": 13,
   "metadata": {},
   "outputs": [
    {
     "name": "stdout",
     "output_type": "stream",
     "text": [
      "The RMSE with the Linear Regression Model is : 1.356\n",
      "The R2 score with the Linear Regression Model is : 0.0127\n",
      "The RMSE with the Decision Tree Regressor is : 1.492\n",
      "The R2 score with the Decision Tree Regressor is : -0.19527\n",
      "The RMSE with the Support Vector Regressor is : 1.399\n",
      "The R2 score with the Support Vector Regressor is : -0.05062\n"
     ]
    }
   ],
   "source": [
    "#  Simple Models with no hyperparameter tuning\n",
    "from sklearn.metrics import mean_squared_error\n",
    "from sklearn.metrics import r2_score\n",
    "\n",
    "\n",
    "from sklearn.linear_model import LinearRegression\n",
    "from sklearn.tree import DecisionTreeRegressor\n",
    "from sklearn.svm import SVR\n",
    "\n",
    "\n",
    "Lr = LinearRegression()\n",
    "Lr.fit(X_train, y_train)\n",
    "Lr_pred = Lr.predict(X_test)\n",
    "print('The RMSE with the Linear Regression Model is :', np.round(np.sqrt(mean_squared_error(y_test, Lr_pred)), 3))\n",
    "print('The R2 score with the Linear Regression Model is :', np.round(r2_score(y_test, Lr_pred), 5))\n",
    "\n",
    "Dt = DecisionTreeRegressor()\n",
    "Dt.fit(X_train, y_train)\n",
    "Dt_pred = Dt.predict(X_test)\n",
    "print('The RMSE with the Decision Tree Regressor is :', np.round(np.sqrt(mean_squared_error(y_test, Dt_pred)), 3))\n",
    "print('The R2 score with the Decision Tree Regressor is :', np.round(r2_score(y_test, Dt_pred), 5))\n",
    "\n",
    "SVR = SVR()\n",
    "SVR.fit(X_train, y_train)\n",
    "SVR_pred = SVR.predict(X_test)\n",
    "print('The RMSE with the Support Vector Regressor is :', np.round(np.sqrt(mean_squared_error(y_test, SVR_pred)), 3))\n",
    "print('The R2 score with the Support Vector Regressor is :', np.round(r2_score(y_test, SVR_pred), 5))\n"
   ]
  },
  {
   "cell_type": "code",
   "execution_count": 14,
   "metadata": {},
   "outputs": [
    {
     "name": "stdout",
     "output_type": "stream",
     "text": [
      "\n",
      " The best score across ALL searched params:\n",
      " -2.36334227452721\n",
      "\n",
      " The best parameters across ALL searched params:\n",
      " {'max_depth': 3}\n"
     ]
    }
   ],
   "source": [
    "# Tuning Decision Tree \n",
    "from sklearn.model_selection import GridSearchCV\n",
    "\n",
    "Dt_paramgrid = {'max_depth' : np.arange(1, 20)}\n",
    "grid_dt = GridSearchCV(estimator = DecisionTreeRegressor(), scoring = 'neg_mean_squared_error', param_grid=Dt_paramgrid)\n",
    "grid_dt.fit(X_train, y_train)\n",
    "print(\"\\n The best score across ALL searched params:\\n\", grid_dt.best_score_)\n",
    "print(\"\\n The best parameters across ALL searched params:\\n\",grid_dt.best_params_)"
   ]
  },
  {
   "cell_type": "code",
   "execution_count": 21,
   "metadata": {},
   "outputs": [
    {
     "name": "stdout",
     "output_type": "stream",
     "text": [
      "The RMSE with the tuned Decision Tree Regressor is : 1.292\n"
     ]
    }
   ],
   "source": [
    "Dt_tuned = DecisionTreeRegressor(max_depth = 4)\n",
    "Dt_tuned.fit(X_train, y_train)\n",
    "Dt_tuned_pred = Dt_tuned.predict(X_test)\n",
    "print('The RMSE with the tuned Decision Tree Regressor is :', np.round(np.sqrt(mean_squared_error(y_test, Dt_tuned_pred)), 3))"
   ]
  },
  {
   "cell_type": "code",
   "execution_count": 20,
   "metadata": {},
   "outputs": [
    {
     "name": "stdout",
     "output_type": "stream",
     "text": [
      "The RMSE with the Random Forest Model is : 1.342\n",
      "The RMSE with the Adaptative Boosting Model is : 1.322\n",
      "The RMSE with the Extreme Gradient Boosting Model is : 1.268\n"
     ]
    }
   ],
   "source": [
    "# Ensemble Models\n",
    "\n",
    "from sklearn.ensemble import RandomForestRegressor\n",
    "from sklearn.ensemble import AdaBoostRegressor\n",
    "from xgboost import XGBRegressor\n",
    "\n",
    "RF = RandomForestRegressor()\n",
    "RF.fit(X_train, y_train)\n",
    "RF_pred = RF.predict(X_test)\n",
    "print('The RMSE with the Random Forest Model is :', np.round(np.sqrt(mean_squared_error(y_test, RF_pred)), 3))\n",
    "\n",
    "ADA = AdaBoostRegressor()\n",
    "ADA.fit(X_train, y_train)\n",
    "ADA_pred = ADA.predict(X_test)\n",
    "print('The RMSE with the Adaptative Boosting Model is :', np.round(np.sqrt(mean_squared_error(y_test, ADA_pred)), 3))\n",
    "\n",
    "XGB = XGBRegressor()\n",
    "XGB.fit(X_train, y_train)\n",
    "XGB_pred = XGB.predict(X_test)\n",
    "print('The RMSE with the Extreme Gradient Boosting Model is :', np.round(np.sqrt(mean_squared_error(y_test, XGB_pred)), 3))\n",
    "\n"
   ]
  },
  {
   "cell_type": "code",
   "execution_count": 25,
   "metadata": {},
   "outputs": [
    {
     "name": "stdout",
     "output_type": "stream",
     "text": [
      "\n",
      " The best score across ALL searched params:\n",
      " -2.3436803805440136\n",
      "\n",
      " The best parameters across ALL searched params:\n",
      " {'max_depth': 4, 'n_estimators': 50}\n"
     ]
    }
   ],
   "source": [
    "# tuning Random Forest\n",
    "\n",
    "RF_paramgrid = {'n_estimators' : [10, 25, 50, 100, 200], 'max_depth' : np.arange(1, 26)}\n",
    "grid_RF = GridSearchCV(estimator = RandomForestRegressor(), scoring = 'neg_mean_squared_error', param_grid=RF_paramgrid)\n",
    "grid_RF.fit(X_train, y_train)\n",
    "print(\"\\n The best score across ALL searched params:\\n\", grid_RF.best_score_)\n",
    "print(\"\\n The best parameters across ALL searched params:\\n\",grid_RF.best_params_)"
   ]
  },
  {
   "cell_type": "code",
   "execution_count": 26,
   "metadata": {},
   "outputs": [
    {
     "name": "stdout",
     "output_type": "stream",
     "text": [
      "\n",
      " The best score across ALL searched params:\n",
      " -2.3547696080112908\n",
      "\n",
      " The best parameters across ALL searched params:\n",
      " {'learning_rate': 0.1, 'n_estimators': 10}\n"
     ]
    }
   ],
   "source": [
    "# tuning the adaptative boosting model\n",
    "ADA_paramgrid = {'n_estimators' : [10, 50, 100, 500, 1000, 5000], 'learning_rate' : [0.1, 0.01, 0.001, 0.001, 0.0001, 0.00001]}\n",
    "grid_ADA = GridSearchCV(estimator = AdaBoostRegressor(), scoring = 'neg_mean_squared_error', param_grid=ADA_paramgrid)\n",
    "grid_ADA.fit(X_train, y_train)\n",
    "print(\"\\n The best score across ALL searched params:\\n\", grid_ADA.best_score_)\n",
    "print(\"\\n The best parameters across ALL searched params:\\n\", grid_ADA.best_params_)"
   ]
  },
  {
   "cell_type": "code",
   "execution_count": null,
   "metadata": {},
   "outputs": [],
   "source": [
    "# tuning the extreme gradient boosting model\n",
    "XGB_paramgrid = {'n_estimators' : np.arange(100, 1001, 100), 'learning_rate' : [0.1, 0.01, 0.001, 0.001, 0.0001, 0.00001]}\n",
    "grid_XGB = GridSearchCV(estimator = AdaBoostRegressor(), scoring = 'neg_mean_squared_error', param_grid=XGB_paramgrid)\n",
    "grid_XGB.fit(X_train, y_train)\n",
    "print(\"\\n The best score across ALL searched params:\\n\", grid_XGB.best_score_)\n",
    "print(\"\\n The best parameters across ALL searched params:\\n\", grid_XGB.best_params_)"
   ]
  },
  {
   "cell_type": "code",
   "execution_count": 54,
   "metadata": {},
   "outputs": [
    {
     "data": {
      "text/plain": [
       "1.272"
      ]
     },
     "execution_count": 54,
     "metadata": {},
     "output_type": "execute_result"
    }
   ],
   "source": [
    "BestRF = RandomForestRegressor(max_depth = 4, n_estimators = 50, random_state=4)\n",
    "BestRF.fit(X_train, y_train)\n",
    "y_pred_bestRF = BestRF.predict(X_test)\n",
    "np.round(np.sqrt(mean_squared_error(y_test, y_pred_bestRF)), 3)"
   ]
  },
  {
   "cell_type": "code",
   "execution_count": 56,
   "metadata": {},
   "outputs": [
    {
     "data": {
      "text/plain": [
       "1.319"
      ]
     },
     "execution_count": 56,
     "metadata": {},
     "output_type": "execute_result"
    }
   ],
   "source": [
    "BestADA = AdaBoostRegressor(learning_rate = 0.1, n_estimators = 10, random_state=4)\n",
    "BestADA.fit(X_train, y_train)\n",
    "y_pred_bestADA = BestADA.predict(X_test)\n",
    "np.round(np.sqrt(mean_squared_error(y_test, y_pred_bestADA)), 3)"
   ]
  },
  {
   "cell_type": "code",
   "execution_count": 57,
   "metadata": {},
   "outputs": [
    {
     "data": {
      "text/plain": [
       "1.356"
      ]
     },
     "execution_count": 57,
     "metadata": {},
     "output_type": "execute_result"
    }
   ],
   "source": [
    "BestXGB = XGBRegressor(learning_rate = 0.0001, n_estimators = 500, random_state=4)\n",
    "BestXGB.fit(X_train, y_train)\n",
    "y_pred_bestXGB = BestXGB.predict(X_test)\n",
    "np.round(np.sqrt(mean_squared_error(y_test, y_pred_bestXGB)), 3)"
   ]
  },
  {
   "cell_type": "code",
   "execution_count": 58,
   "metadata": {},
   "outputs": [],
   "source": [
    "from joblib import dump, load\n",
    "\n",
    "dump(BestRF, 'BestRF.joblib')\n",
    "\n",
    "my_model = load('BestRF.joblib')"
   ]
  },
  {
   "cell_type": "code",
   "execution_count": 60,
   "metadata": {},
   "outputs": [
    {
     "data": {
      "text/plain": [
       "array([0.22323262, 0.34582302, 2.44672993, ..., 0.50455108, 0.59182655,\n",
       "       0.45357838])"
      ]
     },
     "execution_count": 60,
     "metadata": {},
     "output_type": "execute_result"
    }
   ],
   "source": [
    "# and then my_model.predict(X_test)\n",
    "# np.sqrt(mean_squared_error(y_test, my_model.predict(X_test)))"
   ]
  }
 ],
 "metadata": {
  "kernelspec": {
   "display_name": "Python 3.10.6 ('minimal_ds')",
   "language": "python",
   "name": "python3"
  },
  "language_info": {
   "codemirror_mode": {
    "name": "ipython",
    "version": 3
   },
   "file_extension": ".py",
   "mimetype": "text/x-python",
   "name": "python",
   "nbconvert_exporter": "python",
   "pygments_lexer": "ipython3",
   "version": "3.10.6"
  },
  "orig_nbformat": 4,
  "vscode": {
   "interpreter": {
    "hash": "ce0ad6eba40b14275cc1ded7224065c87b10aad68b849f53552a8292df411d73"
   }
  }
 },
 "nbformat": 4,
 "nbformat_minor": 2
}
