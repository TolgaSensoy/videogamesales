{
 "cells": [
  {
   "cell_type": "markdown",
   "metadata": {},
   "source": [
    "# Webscrapping with Selenium to fill the NAs "
   ]
  },
  {
   "cell_type": "code",
   "execution_count": 2,
   "metadata": {},
   "outputs": [],
   "source": [
    "from selenium import webdriver\n",
    "from webdriver_manager.chrome import ChromeDriverManager\n",
    "from selenium.webdriver.common.by import By\n",
    "from selenium.webdriver.common import keys \n",
    "from time import sleep \n",
    "from tqdm import tqdm\n",
    "\n",
    "import numpy as np\n"
   ]
  },
  {
   "cell_type": "code",
   "execution_count": 3,
   "metadata": {},
   "outputs": [],
   "source": [
    "import pandas as pd\n",
    "df = pd.read_csv('vgsales_copy.csv', index_col = 0).copy()"
   ]
  },
  {
   "cell_type": "code",
   "execution_count": 4,
   "metadata": {},
   "outputs": [
    {
     "data": {
      "text/plain": [
       "Name              0\n",
       "Platform          0\n",
       "Year            271\n",
       "Genre             0\n",
       "Publisher        58\n",
       "NA_Sales          0\n",
       "EU_Sales          0\n",
       "JP_Sales          0\n",
       "Other_Sales       0\n",
       "Global_Sales      0\n",
       "dtype: int64"
      ]
     },
     "execution_count": 4,
     "metadata": {},
     "output_type": "execute_result"
    }
   ],
   "source": [
    "df.isna().sum()"
   ]
  },
  {
   "cell_type": "code",
   "execution_count": 5,
   "metadata": {},
   "outputs": [],
   "source": [
    "year_na = df[df['Year'].isna()]"
   ]
  },
  {
   "cell_type": "code",
   "execution_count": 6,
   "metadata": {},
   "outputs": [
    {
     "name": "stderr",
     "output_type": "stream",
     "text": [
      "C:\\Users\\ttttt\\AppData\\Local\\Temp\\ipykernel_14252\\4170003095.py:2: DeprecationWarning: executable_path has been deprecated, please pass in a Service object\n",
      "  driver = webdriver.Chrome(ChromeDriverManager().install())\n",
      "100%|██████████| 271/271 [21:34<00:00,  4.78s/it]\n"
     ]
    }
   ],
   "source": [
    "# for years\n",
    "driver = webdriver.Chrome(ChromeDriverManager().install())\n",
    "driver.get('https://www.google.com')\n",
    "driver.find_element(By.ID, 'L2AGLb').click()\n",
    "for i, row in tqdm(year_na.iterrows(), total=len(year_na)):\n",
    "    bar = driver.find_element(By.NAME, 'q')\n",
    "    bar.clear()\n",
    "    sleep(1)\n",
    "    bar.send_keys(row['Name'], ' ', row['Platform'], ' year')\n",
    "    sleep(2)\n",
    "    driver.find_element(By.NAME, 'q').send_keys(keys.Keys.ENTER)\n",
    "    try:\n",
    "        year_box = driver.find_element(By.CLASS_NAME, 'kp-hc').text\n",
    "        year_na.loc[i, 'Year'] = year_box\n",
    "    except: \n",
    "        year_na.loc[i, 'Year'] = 'null'\n"
   ]
  },
  {
   "cell_type": "code",
   "execution_count": 7,
   "metadata": {},
   "outputs": [
    {
     "name": "stderr",
     "output_type": "stream",
     "text": [
      "C:\\Users\\ttttt\\AppData\\Local\\Temp\\ipykernel_14252\\376746970.py:1: SettingWithCopyWarning: \n",
      "A value is trying to be set on a copy of a slice from a DataFrame.\n",
      "Try using .loc[row_indexer,col_indexer] = value instead\n",
      "\n",
      "See the caveats in the documentation: https://pandas.pydata.org/pandas-docs/stable/user_guide/indexing.html#returning-a-view-versus-a-copy\n",
      "  year_na.Year = year_na.Year.apply(lambda row: row[-4:])\n"
     ]
    }
   ],
   "source": [
    "year_na.Year = year_na.Year.apply(lambda row: row[-4:])"
   ]
  },
  {
   "cell_type": "code",
   "execution_count": null,
   "metadata": {},
   "outputs": [],
   "source": [
    "df['Year'].fillna(year_na['Year'],inplace = True)"
   ]
  },
  {
   "cell_type": "code",
   "execution_count": 8,
   "metadata": {},
   "outputs": [],
   "source": [
    "df.to_csv('vgsales_afterwebsc.csv')"
   ]
  }
 ],
 "metadata": {
  "kernelspec": {
   "display_name": "Python 3.10.6 ('minimal_ds')",
   "language": "python",
   "name": "python3"
  },
  "language_info": {
   "codemirror_mode": {
    "name": "ipython",
    "version": 3
   },
   "file_extension": ".py",
   "mimetype": "text/x-python",
   "name": "python",
   "nbconvert_exporter": "python",
   "pygments_lexer": "ipython3",
   "version": "3.10.6"
  },
  "orig_nbformat": 4,
  "vscode": {
   "interpreter": {
    "hash": "ce0ad6eba40b14275cc1ded7224065c87b10aad68b849f53552a8292df411d73"
   }
  }
 },
 "nbformat": 4,
 "nbformat_minor": 2
}
